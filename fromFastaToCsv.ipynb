{
 "cells": [
  {
   "cell_type": "markdown",
   "metadata": {
    "collapsed": true
   },
   "source": [
    "#     DATABASE TRANSFORMATION AND ANALYSIS WITH                                           PANDAS "
   ]
  },
  {
   "cell_type": "code",
   "execution_count": null,
   "metadata": {},
   "outputs": [],
   "source": []
  },
  {
   "cell_type": "markdown",
   "metadata": {},
   "source": [
    "## 1. Python transformation (from FASTA format to CSV)"
   ]
  },
  {
   "cell_type": "code",
   "execution_count": null,
   "metadata": {
    "collapsed": true
   },
   "outputs": [],
   "source": [
    "# Pandas is able to process files with a specific format (table, csv, sql, ...)\n",
    "# However it doesn't understand other formats as FASTA. \n",
    "\n",
    "# In bioinformatics, FASTA format is a text-based format for representing either \n",
    "# nucleotide or peptide sequences, in which nucleotides or amino acids \n",
    "# are represented using single-letter codes. \n",
    "\n",
    "# A possible solution: preprocess the data with Python\n",
    "\n",
    "# The output file will contain : \n",
    "# pdb id, chain, type, length (number of amino acids), family name, \n",
    "# number of hydrophobic residues,  % of hydrophobic,  number of polar residues,  \n",
    "# % of polar residues,  number of aromatic residues, %aromatic residues,  \n",
    "# number of positive charged residues, % positive charged residues, \n",
    "# number of negative charged residues, % negative charged residues"
   ]
  },
  {
   "cell_type": "code",
   "execution_count": null,
   "metadata": {
    "collapsed": true
   },
   "outputs": [],
   "source": [
    "# This is an example of a FASTA file (for a protein called Myoglobin):\n",
    "'''\n",
    ">101m_A mol:protein length:154  MYOGLOBIN\n",
    "MVLSEGEWQLVLHVWAKVEADVAGHGQDILIRLFKSHPETLEKF\n",
    "DRVKHLKTEAEMKASEDLKKHGVTVLTALGAILKKKGHHEAELK\n",
    "PLAQSHATKHKIPIKYLEFISEAIIHVLHSRHPGNFGADAQGAM\n",
    "NKALELFRKDIAAKYKELGYQG\n",
    "'''\n",
    "# Every protein starts with '>', then the name of the protein (101m_A), \n",
    "# the type of molecule (protein, DNA or RNA), the lenght of the protein, the name, and finally\n",
    "# the sequence of amino acids or nucleotides (represented by a single-letter code)"
   ]
  },
  {
   "cell_type": "code",
   "execution_count": 1,
   "metadata": {},
   "outputs": [],
   "source": [
    "def join_lines_in_protein(file_in):\n",
    "    #The info of each protein is contained into two different lines\n",
    "    #This funtion joins that information into a list\n",
    "    all_lines=[]\n",
    "    info=[]\n",
    "    sequence=[]\n",
    "    \n",
    "    for line in open(file_in):\n",
    "        all_lines.append(line)\n",
    "        #save all lines as a list. \n",
    "    \n",
    "    #The odd lines contain the info and the pair ones the sequences.\n",
    "    \n",
    "    for N in range(0,(len(all_lines)/2)):\n",
    "    \n",
    "        info.append(all_lines[2*N])    # info : pdb name, type, length, name\n",
    "        sequence.append(all_lines[2*N+1]) # sequence of amino acids\n",
    "    return info, sequence\n",
    "\n",
    "#join_lines_in_protein('./pdb_seqres.txt')"
   ]
  },
  {
   "cell_type": "code",
   "execution_count": 2,
   "metadata": {},
   "outputs": [],
   "source": [
    "## add some columns to my file\n",
    "# pdb name, type, lenght, name , sequence, nhydropho, %, npolar, %, naroma, % ,nposich, %,  nnegach, \n",
    "\n",
    "def Countresi(Sequence):\n",
    "    #This function counts the number of aa in a protein and the \n",
    "    #percentage\n",
    "    \n",
    "    \n",
    "    aminos= {\"hydropho\":[\"A\",\"L\",\"M\",\"I\",\"P\",\"V\"],\n",
    "    \"polar\":[\"C\",\"G\",\"Q\",\"N\",\"S\",\"T\"],\"aroma\":[\"F\",\"Y\",\"W\",\"H\"],\n",
    "             \"posich\":[\"H\",\"R\",\"K\"],\"negach\":[\"E\",\"D\"]}\n",
    "    \n",
    "    nhydropho=0\n",
    "    npolar=0\n",
    "    naroma=0\n",
    "    nposich=0\n",
    "    nnegach=0\n",
    "    \n",
    "    for amino in Sequence:  \n",
    "        if amino in aminos[\"hydropho\"]:\n",
    "            nhydropho+=1\n",
    "        if amino in aminos[\"polar\"]:\n",
    "            npolar+=1\n",
    "        if amino in aminos[\"aroma\"]:\n",
    "            naroma+=1\n",
    "        if amino in aminos[\"posich\"]:\n",
    "            nposich+=1\n",
    "        if amino in aminos[\"negach\"]:\n",
    "            nnegach+=1\n",
    "    total= float(nhydropho+npolar+naroma+nposich+nnegach)\n",
    "    #print total  \n",
    "    result = str(nhydropho)+' '+str(nhydropho/total)+' '+str(npolar)+' '+str(npolar/total)+' '+str(naroma)+' '+str(naroma/total)+' '+str(nposich)+' '+str(nposich/total)+' '+str(nnegach)+' '+str(nnegach/total)\n",
    "    return result\n",
    "    "
   ]
  },
  {
   "cell_type": "code",
   "execution_count": 3,
   "metadata": {},
   "outputs": [
    {
     "name": "stdout",
     "output_type": "stream",
     "text": [
      "Total number of proteins 431023\n",
      "time in seconds 116.856076956\n"
     ]
    }
   ],
   "source": [
    "\n",
    "from timeit import default_timer as timer \n",
    "# START MY TIMER\n",
    "start = timer()\n",
    "\n",
    "#source: protein data bank: https://www.rcsb.org/\n",
    "file_in2= './pdb_seqres.txt'  #FASTA file containing sequence of proteins.\n",
    "\n",
    "\n",
    "info,sequence=join_lines_in_protein(file_in2)   #function that joins two lines into one (per protein)\n",
    "\n",
    "\n",
    "\n",
    "fileout=open('./Result_protein.txt','w')\n",
    "\n",
    "fileout.write('pdbid chain type length family nhydropho %nhydropho npolar %npolar naroma %naroma nposich %nposich nnegach %nnegach'+'\\n')\n",
    "allb=[]\n",
    "\n",
    "\n",
    "for ele1,ele2 in zip(info,sequence):\n",
    "    \n",
    "    \n",
    "    if ele1.split()[1]==\"mol:protein\" and not 'X' in ele2:   #to remove DNA and remove X  \n",
    "            \n",
    "            pdbid =(ele1.split('_')[0])[1:]\n",
    "            chain =(ele1.split('_')[1])[0]\n",
    "            ptype=(ele1.split()[1])[4:]\n",
    "            length=(ele1.split()[2])[7:]\n",
    "            family=ele1.split()[3:]  #There are families with several words\n",
    "            \n",
    "            ele3=pdbid+' '+chain+' '+ptype+' '+length+' '+ \"_\".join([str(i) for i in family])+' '+Countresi(ele2)\n",
    "            \n",
    "            \n",
    "            fileout.write(ele3+'\\n')\n",
    "            allb.append(ele3)\n",
    "            \n",
    "    \n",
    "fileout.close()\n",
    "\n",
    "print 'Total number of proteins', len(allb) # less than the original number of proteins because\n",
    "                                            #I have eliminated DNA, RNA and proteins with\n",
    "                                            # non-standar residues, as X.\n",
    "# STOP MY TIMER\n",
    "elapsed_time = timer() - start # in seconds\n",
    "print \"time in seconds\", elapsed_time\n",
    "    \n"
   ]
  },
  {
   "cell_type": "code",
   "execution_count": null,
   "metadata": {
    "collapsed": true
   },
   "outputs": [],
   "source": []
  }
 ],
 "metadata": {
  "kernelspec": {
   "display_name": "Python 2",
   "language": "python",
   "name": "python2"
  },
  "language_info": {
   "codemirror_mode": {
    "name": "ipython",
    "version": 2
   },
   "file_extension": ".py",
   "mimetype": "text/x-python",
   "name": "python",
   "nbconvert_exporter": "python",
   "pygments_lexer": "ipython2",
   "version": "2.7.14"
  }
 },
 "nbformat": 4,
 "nbformat_minor": 2
}
